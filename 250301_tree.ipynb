{
 "cells": [
  {
   "cell_type": "code",
   "execution_count": null,
   "metadata": {},
   "outputs": [
    {
     "name": "stdout",
     "output_type": "stream",
     "text": [
      "<function totnode at 0x11048ca40>\n",
      "[1, 2, 3, 4, 5, 6, 7, 8]\n",
      "Level 0: 1\n",
      "Level 0: 2\n",
      "Level 0: 3\n",
      "Level 0: 4\n",
      "Level 0: 5\n"
     ]
    }
   ],
   "source": [
    "# Binary Tree Database\n",
    "\n",
    "# 완전이진트리의 노드 수를 계산하는 함수\n",
    "def totnode(lvls):\n",
    "    totalnode=0\n",
    "    # 각 레벨에 대하여\n",
    "    for lvls in range(lvls):\n",
    "        nodes_at_lvl=2**lvls\n",
    "        totalnode==nodes_at_lvl\n",
    "\n",
    "    return totnode\n",
    "\n",
    "print(totnode(3))\n",
    "\n",
    "# \n",
    "def insnode(tree,newn):\n",
    "    tree.append(newn)\n",
    "\n",
    "tree1=[1,2,3,4,5,6,7]\n",
    "insnode(tree1,8)\n",
    "print(tree1)\n",
    "\n",
    "# 완전 이진 트리 레벨 순회:\n",
    "lvl=0\n",
    "\n",
    "btree=[1,2,3,4,5]\n",
    "for i in btree:\n",
    "    if lvl==0:\n",
    "        btree[i-1]\n",
    "\n",
    "print(f'Level {lvl}: {btree[i-1]}')\n",
    "\n",
    "\n",
    "'''\n",
    "    if lvl==2:\n",
    "        print(f'Level {lvl}: {btree[i-1]}')\n",
    "    if lvl==3:\n",
    "        print(f'Level {lvl}: {btree[i-1]}')\n",
    "    \n",
    "'''\n",
    "\n",
    "# 포화 이진 트리 높에 계산\n",
    "def treeh_wo_log(n):\n",
    "    lvl=0\n",
    "    totaln=0\n",
    "    while True:\n",
    "        currentlvl_nodes=2**lvl # 현재 레벨에 위치한 노드들을 계산 (2의 lvl승 = nodes at current lvl)\n",
    "        totaln+=currentlvl_nodes # total node\n",
    "        if totaln>=n: # 전체 노드 개수보다 \n",
    "            return lvl\n",
    "        lvl+=1\n",
    "\n",
    "n=7 # 노드 수가 7개인 포화 이진 트리\n",
    "print(treeh_wo_log(7))"
   ]
  },
  {
   "cell_type": "code",
   "execution_count": null,
   "metadata": {},
   "outputs": [],
   "source": [
    "# 1. 햄버거집 주문 처리기 - 빈 칸 채우기\n",
    "\n",
    "from queue import Queue\n",
    "import time\n",
    "\n",
    "class Order:\n",
    "    def __init__(self, order_number, food_item):\n",
    "        self.order_number = order_number\n",
    "        self.food_item = food_item\n",
    "\n",
    "    def __str__(self):\n",
    "        return f\"Order {self.order_number}: {self.food_item}\"\n",
    "\n",
    "def process_order(order_queue):\n",
    "    while not order_queue.empty():\n",
    "        order = order_queue.get()\n",
    "        print(f\"Processing {order}...\")\n",
    "        time.sleep(2)  # 주문 처리 시간 시뮬레이션\n",
    "        print(f\"{order} is ready!\")\n",
    "\n",
    "def main():\n",
    "    order_queue = Queue()\n",
    "\n",
    "    # 주문 추가 - Burger, pizza, salad\n",
    "# 코드 적기\n",
    "\n",
    "    print(\"Welcome to the Order Processing System!\")\n",
    "\n",
    "    # 주문 처리 - 빈 칸 채우기\n",
    "    process_order(????)\n",
    "\n",
    "    print(\"All orders are processed!\")\n",
    "\n",
    "if __name__ == \"__main__\":\n",
    "    main()"
   ]
  },
  {
   "cell_type": "code",
   "execution_count": null,
   "metadata": {},
   "outputs": [],
   "source": [
    "# 2. queue 를 사용하여 달리기를 하는 게임을 만들어봅시다. 위 코드를 참고해도 됩니다.\n"
   ]
  }
 ],
 "metadata": {
  "kernelspec": {
   "display_name": "Python 3",
   "language": "python",
   "name": "python3"
  },
  "language_info": {
   "codemirror_mode": {
    "name": "ipython",
    "version": 3
   },
   "file_extension": ".py",
   "mimetype": "text/x-python",
   "name": "python",
   "nbconvert_exporter": "python",
   "pygments_lexer": "ipython3",
   "version": "3.12.2"
  }
 },
 "nbformat": 4,
 "nbformat_minor": 2
}
