{
 "cells": [
  {
   "cell_type": "code",
   "execution_count": 2,
   "id": "9e438db3",
   "metadata": {},
   "outputs": [
    {
     "name": "stdout",
     "output_type": "stream",
     "text": [
      "['Bob', 'Carol']\n",
      "Alice의 친구: Bob, Carol\n",
      "Bob의 친구: Alice, David\n",
      "Carol의 친구: Alice\n",
      "David의 친구: Bob\n"
     ]
    }
   ],
   "source": [
    "graph = {\n",
    "    'Alice':['Bob', 'Carol'],\n",
    "    'Bob': ['Alice', 'David'],\n",
    "    'Carol': ['Alice'],\n",
    "    'David': ['Bob']\n",
    "}\n",
    "\n",
    "print(graph['Alice'])\n",
    "\n",
    "# 모든 사람의 친구 출력\n",
    "\n",
    "for person in graph:\n",
    "    friends = graph[person]\n",
    "    print(f'{person}의 친구: {', '.join(friends)}')"
   ]
  },
  {
   "cell_type": "code",
   "execution_count": null,
   "id": "25d61662",
   "metadata": {},
   "outputs": [],
   "source": [
    "graph = {\n",
    "    'A': [('B', 1), ('C', 4)],\n",
    "    'B': [('C', 2), ('D', 5)],\n",
    "    'C': [('D', 1)],\n",
    "    'D': []\n",
    "}\n",
    "\n",
    "def dijkstra(graph, start):\n",
    "    distance = {node: float('inf') for node in graph}\n",
    "    distance[start] = 0\n",
    "    queue = []"
   ]
  },
  {
   "cell_type": "code",
   "execution_count": null,
   "id": "ce97c5f6",
   "metadata": {},
   "outputs": [],
   "source": [
    "from collections import deque\n",
    "\n",
    "\n",
    "graph = {\n",
    "    'A': ['B', 'C'],\n",
    "    'B': ['D', 'E'],\n",
    "    'C': ['F'],\n",
    "    'D': [],\n",
    "    'E': [],\n",
    "    'F': [],\n",
    "}\n",
    "\n",
    "def bfs(start, graph):\n",
    "    visited = []\n",
    "    queue = deque(graph[start])\n",
    "\n",
    "    while queue:\n",
    "        node = queue.popleft()\n",
    "        if node not in visited:\n",
    "            visited.append(node)\n",
    "            queue.extend(graph[node])\n",
    "    \n",
    "    return visited\n",
    "\n",
    "\n",
    "\n",
    "class Graph:\n",
    "    def __init__(self, graph):\n",
    "        self.graph = graph\n",
    "\n",
    "    def bfs(self, start):\n",
    "        visited = []\n",
    "        queue = deque([start])\n",
    "\n",
    "        while queue:\n",
    "            node = queue.popleft()\n",
    "            if node not in visited:\n",
    "                visited.append(node)\n",
    "                queue.extend(self.graph[node])\n",
    "        return visited\n",
    "    \n",
    "    def bfs_distance(self, start):\n",
    "        dist = {start: 0}\n",
    "        queue = deque([start])\n",
    "\n",
    "        while queue:\n",
    "            node = queue.popleft()\n",
    "            \n",
    "            for neigbhor in self.graph[node]:\n",
    "                if neigbhor not in dist:\n",
    "                    dist[neigbhor] = dist[node] + 1\n",
    "                    queue.append(neigbhor)\n",
    "        \n",
    "        return dist\n",
    "    \n",
    "    def reachable"
   ]
  }
 ],
 "metadata": {
  "kernelspec": {
   "display_name": "Python 3",
   "language": "python",
   "name": "python3"
  },
  "language_info": {
   "codemirror_mode": {
    "name": "ipython",
    "version": 3
   },
   "file_extension": ".py",
   "mimetype": "text/x-python",
   "name": "python",
   "nbconvert_exporter": "python",
   "pygments_lexer": "ipython3",
   "version": "3.12.2"
  }
 },
 "nbformat": 4,
 "nbformat_minor": 5
}
