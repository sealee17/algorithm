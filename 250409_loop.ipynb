{
 "cells": [
  {
   "cell_type": "code",
   "execution_count": null,
   "id": "32213ccf",
   "metadata": {},
   "outputs": [],
   "source": [
    "scores = [100, 20, 80]\n",
    "\n",
    "# 1\n",
    "total_score = 100 + 20 + 80\n",
    "\n",
    "#2\n",
    "score1 = scores[0]\n",
    "score2 = scores[1]\n",
    "score3 = scores[2]\n",
    "\n",
    "total_score = score1 + score2 + score3\n",
    "\n",
    "total_score = score1\n",
    "total_score += score2\n",
    "total_score += score3\n",
    "\n",
    "total_score = scores[0]\n",
    "total_score += scores[1]\n",
    "total_score += scores[2]\n",
    "\n",
    "#3\n",
    "total_score = 0\n",
    "\n",
    "total_score += scores[0]\n",
    "total_score += scores[1]\n",
    "total_score += scores[2]\n",
    "\n",
    "#4\n",
    "total_score = 0\n",
    "\n",
    "for i in [0, 1, 2]:\n",
    "    total_score += scores[i]\n",
    "\n",
    "#5\n",
    "total_score = 0\n",
    "\n",
    "for i in range(3):\n",
    "    total_score += scores[i]\n",
    "\n",
    "#6\n",
    "total_score = 0\n",
    "\n",
    "for i in range(len(scores)):\n",
    "    total_score += scores[i]"
   ]
  }
 ],
 "metadata": {
  "kernelspec": {
   "display_name": "Python 3",
   "language": "python",
   "name": "python3"
  },
  "language_info": {
   "codemirror_mode": {
    "name": "ipython",
    "version": 3
   },
   "file_extension": ".py",
   "mimetype": "text/x-python",
   "name": "python",
   "nbconvert_exporter": "python",
   "pygments_lexer": "ipython3",
   "version": "3.12.2"
  }
 },
 "nbformat": 4,
 "nbformat_minor": 5
}
