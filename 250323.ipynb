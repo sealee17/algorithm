{
 "cells": [
  {
   "cell_type": "code",
   "execution_count": null,
   "metadata": {},
   "outputs": [
    {
     "name": "stdout",
     "output_type": "stream",
     "text": [
      "Minimum height for the bookshelf is 30cm.\n",
      "3\n",
      "20\n"
     ]
    }
   ],
   "source": [
    "# Parametric search: 사고 방식 (퀴즈들을 풀어서 학습)\n",
    "    # 매개변수 탐색 --> input 값을 찾는 것 [TRUE or FALSE]\n",
    "\n",
    "\n",
    "\n",
    "# 1.\n",
    "    # Find the minimum shelf height to fit all books.\n",
    "\n",
    "def find_height(bookshelf):\n",
    "    return f'Minimum height for the bookshelf is {max(bookshelf)}cm.'\n",
    "\n",
    "books=[15,20,10,30]\n",
    "min_height=find_height(books)\n",
    "print(min_height)\n",
    "\n",
    "\n",
    "\n",
    "# 2.\n",
    "    # Find the maximum number of cities that can be visited within the gien budget.\n",
    "\n",
    "def tour(budget,city_costs):\n",
    "    cities = 0\n",
    "    city_costs.sort()\n",
    "    for cost in city_costs:\n",
    "        if budget >= cost:\n",
    "            budget -= cost\n",
    "            cities += 1\n",
    "        else:\n",
    "            break\n",
    "    return cities\n",
    "\n",
    "costs = [100, 300, 200, 400, 500]\n",
    "total_budget = 800\n",
    "num_of_cities = tour(total_budget,costs)\n",
    "print(num_of_cities)\n",
    "\n",
    "\n",
    "\n",
    "# 3.\n",
    "    # Find the temperature with the highest comfort index in a similar way.\n",
    "\n",
    "def optimized_temp(temp_and_comfort):\n",
    "    optimized_t=0\n",
    "    best_c=0\n",
    "    for temp,comfort in temp_and_comfort:\n",
    "        if comfort>best_c:\n",
    "            optimized_t= temp\n",
    "            best_c=comfort\n",
    "    return optimized_t\n",
    "\n",
    "lst=[(18,70),(20,90),(22,80),(24,70)]\n",
    "print(optimized_temp(lst))"
   ]
  },
  {
   "cell_type": "code",
   "execution_count": null,
   "metadata": {},
   "outputs": [],
   "source": [
    "# 4.\n",
    "    # USB 용량이 max size 일 때, m개(문제에서 주어진 USB의 개수) 이하로 가능한가?\n",
    "\n",
    "def can_div(max_size,m,lectures):\n",
    "    count=1 # USB 개수\n",
    "    total_data=0 # 현재 USB에 담긴 강의 데이터의 총량\n",
    "\n",
    "    for lecture in lectures:\n",
    "        if total_data+lecture>max_size:\n",
    "            count+=1\n",
    "            total_data=lecture\n",
    "        else:\n",
    "            total_data==lecture\n",
    "    return count<=m # TRUE 혹은 FALSE로 보내기 위함"
   ]
  },
  {
   "cell_type": "code",
   "execution_count": null,
   "metadata": {},
   "outputs": [],
   "source": [
    "def minimize_usb_size(lectures,m):\n",
    "    # 강의 용량을 모두 담을 수 있는 최소한의 USB 용량\n",
    "    start=max(lectures) # 가장 긴 강의를 먼저 담아야 한다\n",
    "    end=0\n",
    "\n",
    "    # 모든 강의의 합\n",
    "    for i in range(len(lectures)):\n",
    "        end+=lectures[i]\n",
    "        # 이렇게 for loop를 쓰는 방법 대신 sum()을 써도 상관 (X)\n",
    "\n",
    "    answer=end\n",
    "\n",
    "    while start<=end:\n",
    "        mid=(start+end)//2\n",
    "\n",
    "        if can_div(mid,m,lectures):\n",
    "            answer=mid\n",
    "        else:\n",
    "            start=mid+1\n",
    "    \n",
    "    return answer"
   ]
  },
  {
   "cell_type": "code",
   "execution_count": null,
   "metadata": {},
   "outputs": [],
   "source": [
    "result=minimize_usb_size([1,2,3,4,5],3)\n",
    "print(result)"
   ]
  }
 ],
 "metadata": {
  "kernelspec": {
   "display_name": "Python 3",
   "language": "python",
   "name": "python3"
  },
  "language_info": {
   "codemirror_mode": {
    "name": "ipython",
    "version": 3
   },
   "file_extension": ".py",
   "mimetype": "text/x-python",
   "name": "python",
   "nbconvert_exporter": "python",
   "pygments_lexer": "ipython3",
   "version": "3.12.2"
  }
 },
 "nbformat": 4,
 "nbformat_minor": 2
}
