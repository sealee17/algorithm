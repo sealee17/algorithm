{
 "cells": [
  {
   "cell_type": "code",
   "execution_count": 2,
   "id": "9a148f93",
   "metadata": {},
   "outputs": [],
   "source": [
    "from collections import deque\n",
    "\n",
    "graph = {\n",
    "   'A': ['B', 'C'],\n",
    "   'B': ['A', 'D', 'E'],\n",
    "   'C': ['A', 'F'],\n",
    "   'D': ['B'],\n",
    "   'E': ['B'],\n",
    "   'F': ['C']\n",
    "}\n",
    "\n",
    "def bfs(graph, start):\n",
    "    \n",
    "    visited = set()\n",
    "    queue = deque([start])\n",
    "\n",
    "    while queue:\n",
    "        node = queue.popleft()\n",
    "        \n",
    "        print(node, end = '')\n",
    "\n",
    "        if node not in visited:\n",
    "            for i in graph[node]:\n",
    "                if i not in visited:\n",
    "                    queue.append(i)\n",
    "        visited.add(node)"
   ]
  },
  {
   "cell_type": "code",
   "execution_count": 7,
   "id": "e13e9c01",
   "metadata": {},
   "outputs": [],
   "source": [
    "from collections import deque\n",
    "\n",
    "def cal_min_step_to_exit(grid):\n",
    "    rows, cols = len(grid), len(grid[0])\n",
    "\n",
    "    if grid[0][0] == 1 or grid[rows-1][cols-1] == 1:\n",
    "        return -1\n",
    "    \n",
    "    directions = [(0,1), (1,0), (0,-1), (-1,0)]\n",
    "    queue = deque([(0,0,0)]) # row, col, dist\n",
    "    visited = set((0,0))\n",
    "\n",
    "    while queue:\n",
    "        x,y,dist = queue.popleft()\n",
    "\n",
    "        if x == rows -1 and y == cols -1:\n",
    "            return dist\n",
    "        \n",
    "        for dx, dy in directions:\n",
    "            nx, ny = x + dx, y + dy # n은 여기서 next를 의미 --> next 좌표 의미\n",
    "\n",
    "            if 0 <= nx < rows and 0 <= ny < cols and grid[nx][ny] == 0 and (nx, ny) not in visited:\n",
    "                visited.add((nx, ny))\n",
    "                queue.append((nx,ny, dist+1))\n",
    "\n",
    "    return -1"
   ]
  },
  {
   "cell_type": "code",
   "execution_count": 8,
   "id": "8fc897a0",
   "metadata": {},
   "outputs": [
    {
     "name": "stdout",
     "output_type": "stream",
     "text": [
      "4\n"
     ]
    }
   ],
   "source": [
    "grid = [\n",
    "    [0,0,0],\n",
    "    [1,1,0],\n",
    "    [0,0,0]\n",
    "]\n",
    "\n",
    "min_step = cal_min_step_to_exit(grid)\n",
    "\n",
    "print(min_step)"
   ]
  }
 ],
 "metadata": {
  "kernelspec": {
   "display_name": "Python 3",
   "language": "python",
   "name": "python3"
  },
  "language_info": {
   "codemirror_mode": {
    "name": "ipython",
    "version": 3
   },
   "file_extension": ".py",
   "mimetype": "text/x-python",
   "name": "python",
   "nbconvert_exporter": "python",
   "pygments_lexer": "ipython3",
   "version": "3.12.2"
  }
 },
 "nbformat": 4,
 "nbformat_minor": 5
}
