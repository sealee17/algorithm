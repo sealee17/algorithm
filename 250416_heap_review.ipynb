{
 "cells": [
  {
   "cell_type": "code",
   "execution_count": 6,
   "id": "9734f4d5",
   "metadata": {},
   "outputs": [
    {
     "name": "stdout",
     "output_type": "stream",
     "text": [
      "현재 힙 구조 [4, 5, 7]\n"
     ]
    }
   ],
   "source": [
    "import heapq\n",
    "\n",
    "heap = []\n",
    "\n",
    "heapq.heappush(heap, 5);\n",
    "heapq.heappush(heap,1);\n",
    "heapq.heappush(heap,3);\n",
    "heapq.heappush(heap,4);\n",
    "heapq.heappush(heap,7);\n",
    "\n",
    "heapq.heappop(heap);\n",
    "heapq.heappop(heap);\n",
    "\n",
    "print('현재 힙 구조', heap)"
   ]
  },
  {
   "cell_type": "code",
   "execution_count": 10,
   "id": "4e3ebb8c",
   "metadata": {},
   "outputs": [
    {
     "name": "stdout",
     "output_type": "stream",
     "text": [
      "리스트를 힙으로 변환 [2, 4, 7, 9, 6]\n"
     ]
    }
   ],
   "source": [
    "import heapq\n",
    "\n",
    "nums = [9, 4, 7, 2, 6]\n",
    "\n",
    "heapq.heapify(nums)\n",
    "\n",
    "print('리스트를 힙으로 변환', nums)"
   ]
  },
  {
   "cell_type": "code",
   "execution_count": null,
   "id": "03faefda",
   "metadata": {},
   "outputs": [
    {
     "name": "stdout",
     "output_type": "stream",
     "text": [
      "꺼낸 값 2\n",
      "현재 힙의 상태 [3, 5, 9]\n",
      "가장 작은 것 3개 [10, 20, 30]\n"
     ]
    }
   ],
   "source": [
    "import heapq\n",
    "\n",
    "heap = [ 3, 5, 9]\n",
    "\n",
    "heapq.heapify(heap)\n",
    "\n",
    "result = heapq.heappushpop(heap, 2)\n",
    "\n",
    "print('꺼낸 값', result)\n",
    "print('현재 힙의 상태', heap)\n",
    "\n",
    "nums = [40, 10, 30, 70, 20]\n",
    "\n",
    "print('가장 작은 것 3개', heapq.nsmallest(3, nums))\n",
    "\n",
    "print('가장 큰 수 3개', heapq.nlargest(3, nums))"
   ]
  },
  {
   "cell_type": "code",
   "execution_count": null,
   "id": "0de12cef",
   "metadata": {},
   "outputs": [
    {
     "name": "stdout",
     "output_type": "stream",
     "text": [
      "[1, 2, 5, 7]\n"
     ]
    }
   ],
   "source": [
    "heap = []\n",
    "\n",
    "heapq.heappush(heap, 7)\n",
    "heapq.heappush(heap, 2)\n",
    "heapq.heappush(heap, 5)\n",
    "heapq.heappush(heap, 1)\n",
    "\n",
    "print(heap)"
   ]
  },
  {
   "cell_type": "code",
   "execution_count": null,
   "id": "9879d2d3",
   "metadata": {},
   "outputs": [
    {
     "name": "stdout",
     "output_type": "stream",
     "text": [
      "2\n",
      "[3, 5, 8]\n"
     ]
    }
   ],
   "source": [
    "# heappushpop --> 넣고 가장 작은 값 빼\n",
    "\n",
    "nums = [3,5,8]\n",
    "\n",
    "heapq.heapify(nums)\n",
    "result= heapq.heappushpop(nums, 2)\n",
    "\n",
    "print(result)\n",
    "print(nums)"
   ]
  },
  {
   "cell_type": "code",
   "execution_count": 22,
   "id": "626aaf9c",
   "metadata": {},
   "outputs": [
    {
     "name": "stdout",
     "output_type": "stream",
     "text": [
      "1\n",
      "[3, 4, 7]\n",
      "[92, 88]\n",
      "(1, '프린트')\n"
     ]
    }
   ],
   "source": [
    "# Heapq VS Sorted\n",
    "\n",
    "import heapq\n",
    "\n",
    "data = [4, 1, 7, 3]\n",
    "scores = [75, 80, 92, 88, 64]\n",
    "\n",
    "jobs = []\n",
    "\n",
    "heapq.heapify(data)\n",
    "heapq.heappush(jobs, (3, '청소'))\n",
    "heapq.heappush(jobs, (1, '프린트'))\n",
    "heapq.heappush(jobs, (2, '파일 정리'))\n",
    "\n",
    "print(heapq.heappop(data))\n",
    "print(sorted(data))\n",
    "\n",
    "print(heapq.nlargest(2, scores))\n",
    "\n",
    "print(heapq.heappop(jobs))"
   ]
  },
  {
   "cell_type": "code",
   "execution_count": null,
   "id": "7682c2b2",
   "metadata": {},
   "outputs": [
    {
     "name": "stdout",
     "output_type": "stream",
     "text": [
      "[2, 4, 6]\n",
      "(1, '감마')\n",
      "3\n"
     ]
    }
   ],
   "source": [
    "import heapq\n",
    "\n",
    "queue = []\n",
    "nums = [10, 4, 2, 7, 6]\n",
    "heap = [5, 8, 3]\n",
    "\n",
    "heapq.heappush(queue, (2, '알파'))\n",
    "heapq.heappush(queue, (2, '베타'))\n",
    "\n",
    "heapq.heappush(queue, (1, '감마'))\n",
    "\n",
    "heapq.heapify(heap)\n",
    "heapq.heapify(nums)\n",
    "heapq.heappush(heap, 7)\n",
    "\n",
    "# 아래 두줄의 코드는 같다\n",
    "# print(heapq.heappop(nums) for _ in range(3))\n",
    "print(heapq.nsmallest(3, nums))\n",
    "\n",
    "print(heapq.heappop(queue))\n",
    "# 값이 같은 경우에는 나중 값이 먼저 나온다\n",
    "\n",
    "print(heapq.heappop(heap)) # 7이 들어가고 3이 출력된다"
   ]
  },
  {
   "cell_type": "code",
   "execution_count": null,
   "id": "768d4e75",
   "metadata": {},
   "outputs": [],
   "source": []
  }
 ],
 "metadata": {
  "kernelspec": {
   "display_name": "Python 3",
   "language": "python",
   "name": "python3"
  },
  "language_info": {
   "codemirror_mode": {
    "name": "ipython",
    "version": 3
   },
   "file_extension": ".py",
   "mimetype": "text/x-python",
   "name": "python",
   "nbconvert_exporter": "python",
   "pygments_lexer": "ipython3",
   "version": "3.12.2"
  }
 },
 "nbformat": 4,
 "nbformat_minor": 5
}
