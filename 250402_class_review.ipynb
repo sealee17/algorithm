{
 "cells": [
  {
   "cell_type": "code",
   "execution_count": 3,
   "metadata": {},
   "outputs": [
    {
     "name": "stdout",
     "output_type": "stream",
     "text": [
      "안녕! 나는 세아(이)야\n"
     ]
    }
   ],
   "source": [
    "class Student:\n",
    "    def __init__(self,name):\n",
    "        self.name=name # 이건 클래스 밖에서 student.name과 같다\n",
    "\n",
    "    def say_hello(self):\n",
    "        print(f'안녕! 나는 {self.name}(이)야') # self를 통해 자기 자신의 데이터를 씀\n",
    "\n",
    "me=Student('세아')\n",
    "me.say_hello() #--> 안녕! 나는 세아야"
   ]
  },
  {
   "cell_type": "code",
   "execution_count": null,
   "metadata": {},
   "outputs": [],
   "source": [
    "def test_my_set():\n",
    "    subjects=MySet(['국어'])\n",
    "\n",
    "    assert subjects.values()==['국어']\n",
    "\n",
    "def test_my_set_duplication():\n",
    "    subjects=MySet(['국어','국어']) # 집합은 중복을 제거해서 통과됨\n",
    "\n",
    "    assert subjects.values()==['국어'] \n",
    "\n",
    "\n",
    "def test_my_set_add():\n",
    "    subjects=MySet(['국어'])\n",
    "    subjects.add('영어')\n",
    "\n",
    "    assert subjects.has('국어')\n",
    "    assert subjects.has('영어')\n",
    "\n",
    "\n",
    "def test_my_set_remove():\n",
    "    subjects=MySet(['국어'])\n",
    "    subjects.remove('국어')\n",
    "\n",
    "    assert not subjects.has('국어')\n",
    "\n",
    "\n"
   ]
  },
  {
   "cell_type": "code",
   "execution_count": null,
   "metadata": {},
   "outputs": [],
   "source": [
    "''' \n",
    "'''"
   ]
  }
 ],
 "metadata": {
  "kernelspec": {
   "display_name": "Python 3",
   "language": "python",
   "name": "python3"
  },
  "language_info": {
   "codemirror_mode": {
    "name": "ipython",
    "version": 3
   },
   "file_extension": ".py",
   "mimetype": "text/x-python",
   "name": "python",
   "nbconvert_exporter": "python",
   "pygments_lexer": "ipython3",
   "version": "3.12.2"
  }
 },
 "nbformat": 4,
 "nbformat_minor": 2
}
