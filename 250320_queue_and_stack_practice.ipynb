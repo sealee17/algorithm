{
 "cells": [
  {
   "cell_type": "code",
   "execution_count": 2,
   "metadata": {},
   "outputs": [
    {
     "name": "stdout",
     "output_type": "stream",
     "text": [
      "방문 홈페이지\n",
      "방문 소개 페이지\n",
      "방문 제품 페이지\n",
      "뒤로 가기: 제품 페이지\n",
      "뒤로 가기: 소개 페이지\n",
      "뒤로 가기: 홈페이지\n",
      "더 이상 뒤로 갈 수 없습니다.\n"
     ]
    }
   ],
   "source": [
    "class BrowserHistory:\n",
    "    def __init__(self):\n",
    "        self.history_stack = []\n",
    "\n",
    "    def visit(self,page):\n",
    "        self.history_stack.append(page)\n",
    "        print(f'방문 {page}')\n",
    "\n",
    "    def back(self):\n",
    "        if self.history_stack:\n",
    "            last_page=self.history_stack.pop()\n",
    "            print(f'뒤로 가기: {last_page}')\n",
    "        else:\n",
    "            print('더 이상 뒤로 갈 수 없습니다.')\n",
    "\n",
    "browser=BrowserHistory()\n",
    "\n",
    "browser.visit('홈페이지')\n",
    "browser.visit('소개 페이지')\n",
    "browser.visit('제품 페이지')\n",
    "\n",
    "browser.back()\n",
    "browser.back()\n",
    "browser.back()\n",
    "browser.back()"
   ]
  },
  {
   "cell_type": "code",
   "execution_count": 7,
   "metadata": {},
   "outputs": [
    {
     "name": "stdout",
     "output_type": "stream",
     "text": [
      "고객1 도착\n",
      "고객2 도착\n",
      "고객1 서비스 중\n",
      "고객3 도착\n",
      "고객2 서비스 중\n",
      "고객3 서비스 중\n",
      "대기 중인 고객이 없습니다.\n"
     ]
    }
   ],
   "source": [
    "from collections import deque\n",
    "\n",
    "class BankQueue:\n",
    "    def __init__(self):\n",
    "        self.queue=deque()\n",
    "\n",
    "    def arrive(self,customer):\n",
    "        self.queue.append(customer)\n",
    "        print(f'{customer} 도착')\n",
    "    \n",
    "    def serve(self):\n",
    "        if self.queue:\n",
    "            customer=self.queue.popleft()\n",
    "            print(f'{customer} 서비스 중')\n",
    "        else:\n",
    "            print('대기 중인 고객이 없습니다.')\n",
    "\n",
    "bank=BankQueue()\n",
    "\n",
    "bank.arrive('고객1')\n",
    "bank.arrive('고객2')\n",
    "\n",
    "bank.serve()\n",
    "\n",
    "bank.arrive('고객3')\n",
    "\n",
    "bank.serve()\n",
    "bank.serve()\n",
    "bank.serve()"
   ]
  },
  {
   "cell_type": "code",
   "execution_count": 14,
   "metadata": {},
   "outputs": [
    {
     "name": "stdout",
     "output_type": "stream",
     "text": [
      "작성: 안녕하세요\n",
      "작성: 안녕하세요반가워요\n",
      "작성: 안녕하세요반가워요좋은 아침\n",
      "실행 취소: 안녕하세요반가워요\n",
      "실행 취소: 안녕하세요\n",
      "다시 실행: 안녕하세요반가워요\n",
      "다시 실행: 안녕하세요반가워요좋은 아침\n",
      "다시 실행할 내용이 없습니다.\n"
     ]
    }
   ],
   "source": [
    "class TextEditor:\n",
    "    def __init__(self):\n",
    "        self.text=''\n",
    "        self.undo_stack=[]\n",
    "        self.redo_queue=deque()\n",
    "\n",
    "    def write(self,content):\n",
    "        self.undo_stack.append(self.text)\n",
    "        self.text+=content\n",
    "        print(f'작성: {self.text}')\n",
    "\n",
    "        self.redo_queue.clear()\n",
    "\n",
    "    def undo(self):\n",
    "        if self.undo_stack:\n",
    "            self.redo_queue.appendleft(self.text)\n",
    "            self.text=self.undo_stack.pop()\n",
    "            print(f'실행 취소: {self.text}')\n",
    "        else:\n",
    "            print('실행 취소할 내용이 없습니다.')\n",
    "\n",
    "    def redo(self):\n",
    "        if self.redo_queue:\n",
    "            self.undo_stack.append(self.text)\n",
    "            self.text=self.redo_queue.popleft()\n",
    "            print(f'다시 실행: {self.text}')\n",
    "        else:\n",
    "            print('다시 실행할 내용이 없습니다.')\n",
    "\n",
    "editor=TextEditor()\n",
    "\n",
    "editor.write('안녕하세요')\n",
    "editor.write('반가워요')\n",
    "editor.write('좋은 아침')\n",
    "\n",
    "editor.undo()\n",
    "editor.undo()\n",
    "\n",
    "editor.redo()\n",
    "editor.redo()\n",
    "editor.redo()\n"
   ]
  },
  {
   "cell_type": "code",
   "execution_count": null,
   "metadata": {},
   "outputs": [
    {
     "name": "stdout",
     "output_type": "stream",
     "text": [
      "카드 5 꺼내 스택에 넣기.\n",
      "게임 끝! 스택에 남은 카드: [5]\n",
      "점수 더미의 카드들: []\n",
      "카드 3 꺼내 스택에 넣기.\n",
      "게임 끝! 스택에 남은 카드: [5, 3]\n",
      "점수 더미의 카드들: []\n",
      "카드 2 꺼내 스택에 넣기.\n",
      "카드 2는 짝수! 점수 더미로 이동합니다.\n",
      "게임 끝! 스택에 남은 카드: [5, 3]\n",
      "점수 더미의 카드들: [2]\n",
      "카드 8 꺼내 스택에 넣기.\n",
      "카드 8는 짝수! 점수 더미로 이동합니다.\n",
      "게임 끝! 스택에 남은 카드: [5, 3]\n",
      "점수 더미의 카드들: [2, 8]\n",
      "카드 4 꺼내 스택에 넣기.\n",
      "카드 4는 짝수! 점수 더미로 이동합니다.\n",
      "게임 끝! 스택에 남은 카드: [5, 3]\n",
      "점수 더미의 카드들: [2, 8, 4]\n"
     ]
    }
   ],
   "source": [
    "class CardGame:\n",
    "    def __init__(self, cards):\n",
    "        self.queue=deque(cards)\n",
    "        self.card_stack=[]\n",
    "        self.scores=[]\n",
    "\n",
    "    def play(self):\n",
    "        while self.queue:\n",
    "            card = self.queue.popleft()\n",
    "            self.card_stack.append(card) \n",
    "            print(f'카드 {card} 꺼내 스택에 넣기.')\n",
    "            if self.card_stack and self.card_stack[-1] % 2 == 0:\n",
    "                flipped_card = self.card_stack.pop()\n",
    "                self.scores.append(flipped_card)\n",
    "                print(f'카드 {flipped_card}는 짝수! 점수 더미로 이동합니다.')\n",
    "\n",
    "            print(f'게임 끝! 스택에 남은 카드: {self.card_stack}')\n",
    "            print(f'점수 더미의 카드들: {self.scores}')\n",
    "\n",
    "cards = [5, 3, 2, 8, 4]\n",
    "\n",
    "game = CardGame(cards= cards)\n",
    "game.play()"
   ]
  },
  {
   "cell_type": "code",
   "execution_count": 18,
   "metadata": {},
   "outputs": [
    {
     "name": "stdout",
     "output_type": "stream",
     "text": [
      "카드 5 꺼내 스택에 넣기.\n",
      "카드 2 꺼내 스택에 넣기.\n",
      "카드 2는 짝수! 점수 더미로 이동합니다.\n",
      "카드 3 꺼내 스택에 넣기.\n",
      "카드 8 꺼내 스택에 넣기.\n",
      "카드 8는 짝수! 점수 더미로 이동합니다.\n",
      "카드 7 꺼내 스택에 넣기.\n",
      "카드 4 꺼내 스택에 넣기.\n",
      "카드 4는 짝수! 점수 더미로 이동합니다.\n",
      "게임 끝! 최종 스택: [5, 3, 7]\n",
      "점수 더미: [2, 8, 4]\n"
     ]
    }
   ],
   "source": [
    "queue=deque([5, 2, 3, 8, 7, 4])\n",
    "card_stack=[]\n",
    "scores=[]\n",
    "\n",
    "while queue:\n",
    "    card=queue.popleft()\n",
    "    card_stack.append(card)\n",
    "    print(f'카드 {card} 꺼내 스택에 넣기.')\n",
    "    if card_stack and card_stack[-1]%2==0:\n",
    "        flipped_card=card_stack.pop()\n",
    "        scores.append(flipped_card)\n",
    "        print(f'카드 {flipped_card}는 짝수! 점수 더미로 이동합니다.')\n",
    "\n",
    "print(f'게임 끝! 최종 스택: {card_stack}')\n",
    "print(f'점수 더미: {scores}')"
   ]
  },
  {
   "cell_type": "code",
   "execution_count": 25,
   "metadata": {},
   "outputs": [
    {
     "name": "stdout",
     "output_type": "stream",
     "text": [
      "맑은 날씨에 공원에서 산책하기 좋습니다.\n"
     ]
    }
   ],
   "source": [
    "def weather_activity(temp,condition):\n",
    "    if condition=='맑음':\n",
    "        if temp>25:\n",
    "            return '맑은 날씨에 해변에서 즐겁게 놀아보세요!'\n",
    "        elif temp>15:\n",
    "            return '맑은 날씨에 공원에서 산책하기 좋습니다.'\n",
    "        else:\n",
    "            return '맑지만 쌀쌀합니다! 따뜻한 음료와 함께 산책해보세요.'\n",
    "    if condition=='비':\n",
    "        if temp>25:\n",
    "            return '비가 오지만 따뜻합니다.'\n",
    "        elif temp>15:\n",
    "            return '비가 오니 집에서 휴식을 취하세요.'\n",
    "        else:\n",
    "            return '비가 내리고 춥습니다.'\n",
    "    if condition=='눈':\n",
    "        return '눈이 오네요! 눈사람을 만들거나 스키를 타보세요.'\n",
    "    else:\n",
    "        return '날씨 정보를 확인할 수 없습니다.'\n",
    "    \n",
    "print(weather_activity(temp=17, condition='맑음'))"
   ]
  }
 ],
 "metadata": {
  "kernelspec": {
   "display_name": "Python 3",
   "language": "python",
   "name": "python3"
  },
  "language_info": {
   "codemirror_mode": {
    "name": "ipython",
    "version": 3
   },
   "file_extension": ".py",
   "mimetype": "text/x-python",
   "name": "python",
   "nbconvert_exporter": "python",
   "pygments_lexer": "ipython3",
   "version": "3.12.2"
  }
 },
 "nbformat": 4,
 "nbformat_minor": 2
}
