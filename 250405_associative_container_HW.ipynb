{
 "cells": [
  {
   "cell_type": "code",
   "execution_count": null,
   "id": "7129ab1d",
   "metadata": {},
   "outputs": [],
   "source": [
    "# 1. 각 학생 성적 평균을 계산하여 student_data 딕셔너리에 저장하세요.\n",
    "    # 예. student_data = {'Alice': 92.0, 'Bob': 84.4, 'Charlie': 60.4, 'David': 82.4, 'Eva': 95.4}\n",
    "\n",
    "# 2. 각 학생 학점을 계산하고, student_data 딕셔너리에 추가하세요.\n",
    "    # 학점은 grade_scale 딕셔너리를 사용하여 성적 범위에 따라 부여되어야 합니다.\n",
    "\n",
    "\n",
    "# 3. 프로그램을 완성하고, 결과로 얻어진 student_data 딕셔너리를 출력하는 코드를 작성하세요.\n",
    "    # {'Alice': (92.0, 'A'), 'Bob': (84.4, 'F'), 'Charlie': (60.4, 'C'), 'David': (82.4, 'B+'), 'Eva': (95.4, 'A+')}"
   ]
  },
  {
   "cell_type": "code",
   "execution_count": null,
   "id": "6379b9c2",
   "metadata": {},
   "outputs": [],
   "source": [
    "# 학생들의 이름과 성적 정보가 담긴 딕셔너리\n",
    "student_scores = {\n",
    "    'Alice': [92, 88, 95, 96, 89],\n",
    "    'Bob': [78, 85, 88, 79, 92],\n",
    "    'Charlie': [60, 55, 57, 68, 62],\n",
    "    'David': [85, 77, 72, 88, 90],\n",
    "    'Eva': [95, 91, 98, 96, 97],\n",
    "}\n",
    "\n",
    "# 학점과 성적 범위를 정의한 딕셔너리\n",
    "grade_scale = {\n",
    "    'A+': (95, 100),\n",
    "    'A': (90, 94),\n",
    "    'A-': (85, 89),\n",
    "    'B+': (80, 84),\n",
    "    'B': (75, 79),\n",
    "    'B-': (70, 74),\n",
    "    'C+': (65, 69),\n",
    "    'C': (60, 64),\n",
    "    'F': (0, 59),\n",
    "}\n",
    "\n",
    "final_data = {}\n",
    "\n",
    "student_data = {}\n",
    "\n",
    "class Student_grades:\n",
    "\n",
    "    def calc_avr():\n",
    "        for key, value in student_scores:\n",
    "            avr = sum(value) // len(value)\n",
    "            student_data[key] = avr\n",
    "        return student_data\n",
    "            \n",
    "    def final_grade():\n",
    "        for name, aver in student_data:\n",
    "\n",
    "            for grade, (min, max) in grade_scale:\n",
    "                if aver in range(min,max):\n",
    "                    letter_grade = grade\n",
    "\n",
    "            final_data[name] = (aver,)\n",
    "            final_data[name] += (letter_grade,)\n",
    "\n",
    "        return final_data"
   ]
  },
  {
   "cell_type": "code",
   "execution_count": 9,
   "id": "ea2551df",
   "metadata": {},
   "outputs": [
    {
     "name": "stdout",
     "output_type": "stream",
     "text": [
      "dict_values([[92, 88, 95, 96, 89], [78, 85, 88, 79, 92], [60, 55, 57, 68, 62], [85, 77, 72, 88, 90], [95, 91, 98, 96, 97]])\n"
     ]
    }
   ],
   "source": [
    "student_scores = {\n",
    "    'Alice': [92, 88, 95, 96, 89],\n",
    "    'Bob': [78, 85, 88, 79, 92],\n",
    "    'Charlie': [60, 55, 57, 68, 62],\n",
    "    'David': [85, 77, 72, 88, 90],\n",
    "    'Eva': [95, 91, 98, 96, 97],\n",
    "}\n",
    "\n",
    "print(student_scores.values())"
   ]
  }
 ],
 "metadata": {
  "kernelspec": {
   "display_name": "Python 3",
   "language": "python",
   "name": "python3"
  },
  "language_info": {
   "codemirror_mode": {
    "name": "ipython",
    "version": 3
   },
   "file_extension": ".py",
   "mimetype": "text/x-python",
   "name": "python",
   "nbconvert_exporter": "python",
   "pygments_lexer": "ipython3",
   "version": "3.12.2"
  }
 },
 "nbformat": 4,
 "nbformat_minor": 5
}
