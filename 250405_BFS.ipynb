{
 "cells": [
  {
   "cell_type": "code",
   "execution_count": null,
   "metadata": {},
   "outputs": [],
   "source": [
    " # queue의 변화:\n",
    "\n",
    "queue = [0, 1, 2]\n",
    "\n",
    "queue = [1, 2, 3, 4]\n",
    "\n",
    "queue = [2, 3, 4, 5, 6]\n",
    "\n",
    "queue = [3, 4, 5, 6, 7]\n",
    "\n",
    "queue = [4, 5, 6, 7, 8]"
   ]
  },
  {
   "cell_type": "code",
   "execution_count": 3,
   "metadata": {},
   "outputs": [],
   "source": [
    "# BFS\n",
    "\n",
    "    # tree 전체 탐색\n",
    "\n",
    "from collections import deque\n",
    "\n",
    "def bfs(graph, start):\n",
    "    \n",
    "    # 방문할 곳을 저장하는 queue\n",
    "    queue = deque([start])\n",
    "\n",
    "    # 방문한 노드 추적\n",
    "    visited = set()\n",
    "\n",
    "    while queue: # (while) queue에 요소들이 없어질 때까지 반복\n",
    "\n",
    "        node = queue.popleft() # 큐에 왼쪽에서 (앞) 요소를 뽑아내고 node라는 변수에 저장\n",
    "\n",
    "        if node not in visited: # 만약 방문한 노드가 아니라면 프린트를 해라\n",
    "            print(node, end = '')\n",
    "\n",
    "        # 그리고 해당 노드를 방문 처리\n",
    "        visited.add(node)\n",
    "\n",
    "        # 방문하지 않았으면서 인접한 노드를 큐에 추가\n",
    "        for neighbor in graph[node]:\n",
    "            if neighbor not in visited:\n",
    "                queue.append(neighbor)"
   ]
  },
  {
   "cell_type": "code",
   "execution_count": 4,
   "metadata": {},
   "outputs": [
    {
     "name": "stdout",
     "output_type": "stream",
     "text": [
      "ABCDEF"
     ]
    }
   ],
   "source": [
    "graph = {\n",
    "   'A': ['B', 'C'],\n",
    "   'B': ['A', 'D', 'E'],\n",
    "   'C': ['A', 'F'],\n",
    "   'D': ['B'],\n",
    "   'E': ['B'],\n",
    "   'F': ['C']\n",
    "}\n",
    "\n",
    "bfs(graph, 'A')"
   ]
  },
  {
   "cell_type": "code",
   "execution_count": 7,
   "metadata": {},
   "outputs": [],
   "source": [
    "# 특정 값을 search 하는 방법\n",
    "    # target을 찾으면 return True, 못 찾으면 return False\n",
    "\n",
    "# 그래프\n",
    "graph = {\n",
    "   'A': ['B', 'C'],\n",
    "   'B': ['A', 'D', 'E'],\n",
    "   'C': ['A', 'F'],\n",
    "   'D': ['B'],\n",
    "   'E': ['B'],\n",
    "   'F': ['C']\n",
    "}\n",
    "\n",
    "def bfs_target(graph, start, target):\n",
    "    \n",
    "    queue = deque([start])\n",
    "    visited = set()\n",
    "\n",
    "    while queue:\n",
    "\n",
    "        node = queue.popleft()\n",
    "\n",
    "        if node not in visited:\n",
    "            print(node, end = '')\n",
    "            visited.add(node)\n",
    "\n",
    "        if node == target:\n",
    "            return True\n",
    "        \n",
    "        for neighbor in graph[node]:\n",
    "            if neighbor not in visited:\n",
    "                queue.append(neighbor)"
   ]
  },
  {
   "cell_type": "code",
   "execution_count": 8,
   "metadata": {},
   "outputs": [
    {
     "name": "stdout",
     "output_type": "stream",
     "text": [
      "ABCD"
     ]
    },
    {
     "data": {
      "text/plain": [
       "True"
      ]
     },
     "execution_count": 8,
     "metadata": {},
     "output_type": "execute_result"
    }
   ],
   "source": [
    "graph = {\n",
    "   'A': ['B', 'C'],\n",
    "   'B': ['A', 'D', 'E'],\n",
    "   'C': ['A', 'F'],\n",
    "   'D': ['B'],\n",
    "   'E': ['B'],\n",
    "   'F': ['C']\n",
    "}\n",
    "\n",
    "bfs_target(graph,'A','D')"
   ]
  },
  {
   "cell_type": "code",
   "execution_count": null,
   "metadata": {},
   "outputs": [],
   "source": [
    "# target까지 거리를 함께 출력하는 BFS\n",
    "\n",
    "def bfs_target_distance(graph, start, target):\n",
    "    \n",
    "    queue = deque([start, 1])\n",
    "    visited = set()\n",
    "\n",
    "    while queue:\n",
    "\n",
    "        node, distance = queue.popleft()\n",
    "\n",
    "        if node not in visited:\n",
    "            print(node, end = '')\n",
    "            visited.add(node)\n",
    "\n",
    "        if node == target:\n",
    "            return distance\n",
    "        \n",
    "        for neighbor in graph[node]:\n",
    "            if neighbor not in visited:\n",
    "                queue.append(neighbor, distance + 1)"
   ]
  },
  {
   "cell_type": "code",
   "execution_count": null,
   "metadata": {},
   "outputs": [],
   "source": []
  }
 ],
 "metadata": {
  "kernelspec": {
   "display_name": "Python 3",
   "language": "python",
   "name": "python3"
  },
  "language_info": {
   "codemirror_mode": {
    "name": "ipython",
    "version": 3
   },
   "file_extension": ".py",
   "mimetype": "text/x-python",
   "name": "python",
   "nbconvert_exporter": "python",
   "pygments_lexer": "ipython3",
   "version": "3.12.2"
  }
 },
 "nbformat": 4,
 "nbformat_minor": 2
}
