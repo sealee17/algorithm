{
 "cells": [
  {
   "cell_type": "code",
   "execution_count": null,
   "metadata": {},
   "outputs": [
    {
     "name": "stdout",
     "output_type": "stream",
     "text": [
      "[1, 3, 2, 5, 9, 4, 6]\n",
      "element 추가 후: [0, 1, 2, 3, 9, 4, 6, 5]\n"
     ]
    }
   ],
   "source": [
    "# Heap 힙\n",
    "\n",
    "import heapq\n",
    "\n",
    "minh=[3,1,4,5,9,2,6]\n",
    "\n",
    "heapq.heapify(minh)\n",
    "print(minh)\n",
    "\n",
    "heapq.heappush(minh,0) # minh라는 heap에다가 elemnt 0 추가하기\n",
    "print('element 추가 후:', minh)\n",
    "\n",
    "minval=heapq.heappop(minh) # 값을 뽑아내기\n",
    "print('Minimum Value:', minval)\n",
    "print('heap:',minh)"
   ]
  },
  {
   "cell_type": "code",
   "execution_count": null,
   "metadata": {},
   "outputs": [
    {
     "name": "stdout",
     "output_type": "stream",
     "text": [
      "Maximum heap: [-9, -5, -6, -3, -1, -4, -2, 0] \n",
      "\n",
      "[-9, -7, -6, -5, -1, -4, -2, 0, -3]\n",
      "Maximum value: 9\n",
      "[-7, -5, -6, -3, -1, -4, -2, 0]\n"
     ]
    }
   ],
   "source": [
    "# max heap\n",
    "\n",
    "maxh=[-x for x in minh]\n",
    "\n",
    "# list compression\n",
    "'''\n",
    "lst=[]\n",
    "for x in minh:\n",
    "    lst.append(-x)\n",
    "    '''\n",
    "\n",
    "heapq.heapify(maxh)\n",
    "print('Maximum heap:',maxh)\n",
    "\n",
    "# 만약 7을 추가하고 싶다면, 수의 부호를 (-)로 바꾸어 집어넣음\n",
    "heapq.heappush(maxh,-7)\n",
    "print(maxh)\n",
    "\n",
    "maxval=-heapq.heappop(maxh)\n",
    "print('Maximum value:', maxval)\n",
    "\n",
    "print(maxh)"
   ]
  },
  {
   "cell_type": "code",
   "execution_count": null,
   "metadata": {},
   "outputs": [],
   "source": [
    "tuple1=(1,2,3)\n",
    "print(tuple1)\n",
    "print(tuple1[2])\n",
    "\n",
    "# tuple1.append(4)\n",
    "    # tuple은 append라는 function 자체가 없다!\n",
    "\n",
    "# tuple[1]=3\n",
    "    # tuple은 item을 넣는것을 support (X)\n",
    "\n",
    "# Example: 대한민국 위도/경도\n",
    "korcoord=(35.9078,127.7669)"
   ]
  },
  {
   "cell_type": "code",
   "execution_count": null,
   "metadata": {},
   "outputs": [],
   "source": [
    "# list, string slicing\n",
    "str='hello world'\n",
    "\n",
    "# hell로 변환 \n",
    "print(str[0]) # h 출력\n",
    "print(str[3]) # l 출력\n",
    "\n",
    "print(str[0:4]) # hell 출력 (시작:끝+1)"
   ]
  },
  {
   "cell_type": "code",
   "execution_count": null,
   "metadata": {},
   "outputs": [
    {
     "name": "stdout",
     "output_type": "stream",
     "text": [
      "Baseball\n",
      "Boxing\n",
      "Football\n"
     ]
    }
   ],
   "source": [
    "# Practice 1\n",
    "sports=('Baseball','Boxing','Football','Sprint')\n",
    "\n",
    "# Slicing: Boxing ~ Sprint\n",
    "print(sports[1:4])\n",
    "\n",
    "# Baseball, boxing, football이 있는지 확인해보기\n",
    "check= 'Baseball' and 'Boxing' and 'Football' in sports\n",
    "print(check)\n",
    "\n",
    "# b 혹은 B가 들어가는 sports element 출력하기\n",
    "sports=('Baseball','Boxing','Football','Sprint')\n",
    "\n",
    "for i in sports:\n",
    "    if 'B' in i or 'b' in i:\n",
    "        print(i)\n"
   ]
  },
  {
   "cell_type": "code",
   "execution_count": null,
   "metadata": {},
   "outputs": [],
   "source": [
    "# Practice 2\n",
    "\n",
    "cars={'tesla x':3, 'porche 911': 2,'Ford pickup truck':1,'volvo truck': 10}\n",
    "\n",
    "print(cars['tesla x']) # tesla x가 얼마나 있는지 출력\n",
    "print(cars.values()) # 모든 value 값들을 출력\n",
    "print(sum(cars.values())) # 전체 value의 합; 얼마나 많은 차를 가지고 있는지 출력\n",
    "\n",
    "print(cars.keys())\n",
    "\n",
    "print(cars.items()) # key/value 다 출력\n",
    "\n",
    "for k,v in cars.items():\n",
    "    # k는 key 자리에 들어가고 v는 value 자리에 들어간다\n",
    "    if v>=3:\n",
    "        print(k,v)\n",
    "\n",
    "# 아래는 list-compressed ver.\n",
    "cars2=[(k,v) for k,v in cars.items() if v>=3]\n",
    "print(cars2)"
   ]
  },
  {
   "cell_type": "code",
   "execution_count": null,
   "metadata": {},
   "outputs": [
    {
     "name": "stdout",
     "output_type": "stream",
     "text": [
      "[1, 2, 3, 5, 7, 9, 10, 32]\n",
      "[3, 5, 7, 1, 32, 2, 9, 10] [1, 2, 3, 5, 7, 9, 10, 32]\n"
     ]
    }
   ],
   "source": [
    "# 작게 --> 크게 sort!!\n",
    "\n",
    "lst2=[3,5,7,1,32,2,9,10]\n",
    "lst2.sort()\n",
    "print(lst2)\n",
    "\n",
    "lst3=[3,5,7,1,32,2,9,10]\n",
    "sorted_lst3=sorted(lst3)\n",
    "print(lst3,sorted_lst3)\n",
    "\n",
    "# 크게 --> 작게 sort!!\n",
    "\n",
    "lst4=[3,5,7,1,32,2,9,10]\n",
    "lst4.sort(reverse=True)\n",
    "print(lst4)"
   ]
  },
  {
   "cell_type": "code",
   "execution_count": null,
   "metadata": {},
   "outputs": [
    {
     "name": "stdout",
     "output_type": "stream",
     "text": [
      "250\n",
      "Alice 95\n",
      "Bob 78\n",
      "Charlie 88\n",
      "David 92\n",
      "Eva 75\n",
      "{'apple': 100, 'date': 70}\n"
     ]
    }
   ],
   "source": [
    "\n",
    "# 1. 딕셔너리 안에 있는 값value들의 합sum을 나타내도록 코딩해주세요.\n",
    "sales1={'apple':100,'banana':50,'cherry':30,'date':70}\n",
    "print(sum(sales1.values()))\n",
    "\n",
    "# 2. 주어진 딕셔너리를 값에 따라 오름차순으로 (작은 수가 앞에, 큰 수가 뒤로) 정렬하는 프로그램을 작성하세요. 정렬된 결과를 새로운 딕셔너리로 반환하세요.\n",
    "scores2={'Alice':95,'Bob':78,'Charlie':88,'David':92,'Eva':75}\n",
    "sortedd={}\n",
    "while scores2:\n",
    "    minkey=None\n",
    "\n",
    "    for key in scores2.keys():\n",
    "        if minkey is None or scores2[key]<scores2[minkey]:\n",
    "            minkey=key\n",
    "    \n",
    "    sortedd[minkey]=scores2[minkey]\n",
    "    \n",
    "    del scores2[minkey]\n",
    "\n",
    "print(sortedd)\n",
    "        \n",
    "    \n",
    "# 주어진 딕셔너리 sales에서 60보다 큰 (특정 조건을 만족)하는 key-value 쌍을 포함하는 새로운 딕셔너리를 생성하는 프로그램을 작성하세요.\n",
    "sales={'apple':100,'banana':50,'cherry':30,'date':70}\n",
    "newsales3={}\n",
    "for k,v in sales.items():\n",
    "    if v>60:\n",
    "        newsales3[k]=v\n",
    "print(newsales3)"
   ]
  }
 ],
 "metadata": {
  "kernelspec": {
   "display_name": "Python 3",
   "language": "python",
   "name": "python3"
  },
  "language_info": {
   "codemirror_mode": {
    "name": "ipython",
    "version": 3
   },
   "file_extension": ".py",
   "mimetype": "text/x-python",
   "name": "python",
   "nbconvert_exporter": "python",
   "pygments_lexer": "ipython3",
   "version": "3.12.2"
  }
 },
 "nbformat": 4,
 "nbformat_minor": 2
}
