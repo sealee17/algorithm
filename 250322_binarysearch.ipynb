{
 "cells": [
  {
   "cell_type": "code",
   "execution_count": null,
   "metadata": {},
   "outputs": [
    {
     "name": "stdout",
     "output_type": "stream",
     "text": [
      "정리된 리스트: [1, 2, 4, 5, 6, 51]\n",
      "기존 리스트: [1, 4, 5, 6, 2, 51]\n",
      "dict_items([('alice', 95), ('Bob', 78), ('Charlie', 88), ('David', 92), ('Eva', 75)])\n",
      "{'Bob': 78, 'Charlie': 88, 'David': 92, 'Eva': 75, 'alice': 95}\n"
     ]
    }
   ],
   "source": [
    "# REVIEW\n",
    "\n",
    "scores={'alice':95,'Bob':78,'Charlie':88,'David':92,'Eva':75}\n",
    "\n",
    "# list를 sort하는 건 간단하다.\n",
    "\n",
    "lst=[1,4,5,6,2,51]\n",
    "print(f'정리된 리스트: {sorted(lst)}')\n",
    "print(f'기존 리스트: {lst}')\n",
    "\n",
    "# key에 따라서 dictionary를 sort하는 방법.\n",
    "\n",
    "# def sorted_key(item):\n",
    "#     return item[1]\n",
    "# lambda item:item[1]\n",
    "\n",
    "print(scores.items())\n",
    "\n",
    "sorted_dic=dict(sorted(scores.items(),key=lambda item: item[0]))\n",
    "\n",
    "# 지금은 key를 정리하는 방법. value를 정리하고 싶으면 item[0]을 item[1]로 바꾸면 된다.\n",
    "\n",
    "print(sorted_dic)"
   ]
  },
  {
   "cell_type": "code",
   "execution_count": 1,
   "metadata": {},
   "outputs": [
    {
     "name": "stdout",
     "output_type": "stream",
     "text": [
      "6\n"
     ]
    }
   ],
   "source": [
    "# 본격적인 알고리즘 배우기 시작.\n",
    "    # BINARY SEARCH (이분 탐색)\n",
    "\n",
    "def binary_search(lst,target):\n",
    "    low=0\n",
    "    high=len(lst)-1\n",
    "    # 막약 list가 [1,2,3,4]였다면:\n",
    "        # low=0\n",
    "        # high=3\n",
    "        # lst[33] --> (X)\n",
    "    \n",
    "    while low<=high:\n",
    "        mid=(low+high)//2\n",
    "        guess=lst[mid]\n",
    "\n",
    "        if guess==target:\n",
    "            return mid\n",
    "        if guess<target:\n",
    "            low=mid-1\n",
    "        elif guess>target:\n",
    "            high=mid-1\n",
    "    \n",
    "    return None\n",
    "\n",
    "lst=[1,2,3,4,5,6,7,8,9,10]\n",
    "target=7\n",
    "result=binary_search(lst,target)\n",
    "print(result)"
   ]
  },
  {
   "cell_type": "code",
   "execution_count": 4,
   "metadata": {},
   "outputs": [
    {
     "name": "stdout",
     "output_type": "stream",
     "text": [
      "Element found at index: 3\n"
     ]
    }
   ],
   "source": [
    "# Binary Search 응용법\n",
    "    # Binary Search RECURSIVE (재귀 함수)\n",
    "\n",
    "def binary_search_recursive(lst,low,high,target):\n",
    "    if high>=low:\n",
    "        mid=(high+low)//2\n",
    "\n",
    "        # 티켓 값과 찾은 값의 경우\n",
    "        if lst[mid]==target:\n",
    "            return mid\n",
    "        \n",
    "        # 중간 값이 타겟보다 큰 경우 왼쪽 부분을 탐색\n",
    "        elif lst[mid]>target:\n",
    "            return binary_search_recursive(lst,low,mid-1,target)\n",
    "        \n",
    "        # 중간 값이 타겟보다 작은 경우 오른쪽 부분을 탐색\n",
    "        else:\n",
    "            return binary_search_recursive(lst,mid+1,high,target)\n",
    "        \n",
    "    else:\n",
    "        # 타겟을 그럼에도 찾지 못한 경우\n",
    "        return None\n",
    "    \n",
    "lst=[1,3,5,7,9,11,13,15,17,19]\n",
    "target=7\n",
    "\n",
    "# 이진 탐색 실행\n",
    "result=binary_search_recursive(lst,0,len(lst)-1,target)\n",
    "\n",
    "if result is not None:\n",
    "    print(f'Element found at index: {result}')\n",
    "else:\n",
    "    print('- Element not found in list -')"
   ]
  }
 ],
 "metadata": {
  "kernelspec": {
   "display_name": "Python 3",
   "language": "python",
   "name": "python3"
  },
  "language_info": {
   "codemirror_mode": {
    "name": "ipython",
    "version": 3
   },
   "file_extension": ".py",
   "mimetype": "text/x-python",
   "name": "python",
   "nbconvert_exporter": "python",
   "pygments_lexer": "ipython3",
   "version": "3.12.2"
  }
 },
 "nbformat": 4,
 "nbformat_minor": 2
}
