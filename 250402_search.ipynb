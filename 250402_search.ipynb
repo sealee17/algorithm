{
 "cells": [
  {
   "cell_type": "code",
   "execution_count": null,
   "metadata": {},
   "outputs": [
    {
     "name": "stdout",
     "output_type": "stream",
     "text": [
      "3 7 0 7\n",
      "[이진 탐색] target 위치: 7\n"
     ]
    }
   ],
   "source": [
    "''' \n",
    "예제 1: 이진 탐색 (정확한 값 찾기)\n",
    "'''\n",
    "\n",
    "arr = [1, 3, 5, 7, 9, 11, 13, 15]\n",
    "target = 7\n",
    "\n",
    "def binary_search(arr, target):\n",
    "    left, right = 0, len(arr) - 1\n",
    "\n",
    "    while left <= right:\n",
    "        mid = (left + right) // 2\n",
    "        if arr[mid]==target:\n",
    "            break\n",
    "        elif arr[mid]>target:\n",
    "            right=mid\n",
    "        elif arr[mid]<target:\n",
    "            left=mid\n",
    "        print(right,left)\n",
    "\n",
    "    return arr[mid]\n",
    "\n",
    "\n",
    "print(\"[이진 탐색] target 위치:\", binary_search(arr, target))"
   ]
  },
  {
   "cell_type": "code",
   "execution_count": 16,
   "metadata": {},
   "outputs": [
    {
     "name": "stdout",
     "output_type": "stream",
     "text": [
      "[매개변수 탐색] 조건을 만족하는 최솟값: 23\n"
     ]
    }
   ],
   "source": [
    "''' \n",
    "예제 2: 매개변수 탐색 (조건을 만족하는 최솟값 찾기)\n",
    "\n",
    "문제: 1~1000 사이에서 제곱했을 때 500 이상이 되는 가장 작은 수를 구하라.\n",
    "\n",
    "조건 함수: x^2 >= 500\n",
    "\n",
    "'''\n",
    "\n",
    "def is_possible(x):\n",
    "    return x * x >= 500\n",
    "\n",
    "def parametric_search():\n",
    "    left, right = 1, 1000\n",
    "    \n",
    "    answer = right\n",
    "\n",
    "    while left <= right:\n",
    "        mid = (left + right) // 2\n",
    "        \n",
    "        if is_possible(mid):\n",
    "            answer = mid\n",
    "            right = mid - 1\n",
    "        else:\n",
    "            left = mid + 1\n",
    "\n",
    "    return answer    \n",
    "\n",
    "print(\"[매개변수 탐색] 조건을 만족하는 최솟값:\", parametric_search())\n"
   ]
  },
  {
   "cell_type": "code",
   "execution_count": 5,
   "metadata": {},
   "outputs": [
    {
     "ename": "KeyboardInterrupt",
     "evalue": "",
     "output_type": "error",
     "traceback": [
      "\u001b[0;31m---------------------------------------------------------------------------\u001b[0m",
      "\u001b[0;31mKeyboardInterrupt\u001b[0m                         Traceback (most recent call last)",
      "Cell \u001b[0;32mIn[5], line 36\u001b[0m\n\u001b[1;32m     32\u001b[0m             left \u001b[38;5;241m=\u001b[39m mid \u001b[38;5;241m+\u001b[39m \u001b[38;5;241m1\u001b[39m\n\u001b[1;32m     34\u001b[0m     \u001b[38;5;28;01mreturn\u001b[39;00m answer\n\u001b[0;32m---> 36\u001b[0m \u001b[38;5;28mprint\u001b[39m(\u001b[43mminimum_storage\u001b[49m\u001b[43m(\u001b[49m\u001b[43m)\u001b[49m)\n",
      "Cell \u001b[0;32mIn[5], line 28\u001b[0m, in \u001b[0;36mminimum_storage\u001b[0;34m()\u001b[0m\n\u001b[1;32m     25\u001b[0m answer \u001b[38;5;241m=\u001b[39m right\n\u001b[1;32m     27\u001b[0m \u001b[38;5;28;01mwhile\u001b[39;00m left \u001b[38;5;241m<\u001b[39m\u001b[38;5;241m=\u001b[39m right:\n\u001b[0;32m---> 28\u001b[0m     \u001b[38;5;28;01mif\u001b[39;00m \u001b[43mis_possible_capacity\u001b[49m\u001b[43m(\u001b[49m\u001b[43mmid\u001b[49m\u001b[43m)\u001b[49m:\n\u001b[1;32m     29\u001b[0m         answer \u001b[38;5;241m=\u001b[39m mid\n\u001b[1;32m     30\u001b[0m         right \u001b[38;5;241m=\u001b[39m mid \u001b[38;5;241m-\u001b[39m \u001b[38;5;241m1\u001b[39m\n",
      "Cell \u001b[0;32mIn[5], line 15\u001b[0m, in \u001b[0;36mis_possible_capacity\u001b[0;34m(x)\u001b[0m\n\u001b[1;32m     13\u001b[0m \u001b[38;5;28;01mif\u001b[39;00m total \u001b[38;5;241m+\u001b[39m lecture \u001b[38;5;241m>\u001b[39m x:\n\u001b[1;32m     14\u001b[0m     count \u001b[38;5;241m+\u001b[39m\u001b[38;5;241m=\u001b[39m \u001b[38;5;241m1\u001b[39m\n\u001b[0;32m---> 15\u001b[0m     total \u001b[38;5;241m=\u001b[39m lecture\n\u001b[1;32m     16\u001b[0m \u001b[38;5;28;01melse\u001b[39;00m:\n\u001b[1;32m     17\u001b[0m     total \u001b[38;5;241m=\u001b[39m total \u001b[38;5;241m+\u001b[39m lecture\n",
      "\u001b[0;31mKeyboardInterrupt\u001b[0m: "
     ]
    }
   ],
   "source": [
    "### 문제 1. 강의 나누기\n",
    "# - n개의 강의를 m개의 USB로 나누되, 각 USB에 들어갈 수 있는 최소 용량의 최솟값을 구하시오.\n",
    "\n",
    "\n",
    "lectures = [1, 2, 3, 4, 5]  # 각 강의 길이\n",
    "m = 3  # USB 개수\n",
    "\n",
    "def is_possible_capacity(x):\n",
    "    count, total = 1, 0\n",
    "    for lecture in lectures:\n",
    "        if lecture > x:\n",
    "            return False\n",
    "        if total + lecture > x:\n",
    "            count += 1\n",
    "            total = lecture\n",
    "        else:\n",
    "            total = total + lecture\n",
    "    return count# <= m\n",
    "\n",
    "\n",
    "def minimum_storage():\n",
    "    left, right = max(lectures), sum(lectures)\n",
    "\n",
    "    mid = (left + right) // 2\n",
    "    answer = right\n",
    "\n",
    "    while left <= right:\n",
    "        if is_possible_capacity(mid):\n",
    "            answer = mid\n",
    "            right = mid - 1\n",
    "        else:\n",
    "            left = mid + 1\n",
    "    \n",
    "    return answer\n",
    "\n",
    "print(minimum_storage())"
   ]
  },
  {
   "cell_type": "code",
   "execution_count": null,
   "metadata": {},
   "outputs": [
    {
     "ename": "KeyboardInterrupt",
     "evalue": "",
     "output_type": "error",
     "traceback": [
      "\u001b[0;31m---------------------------------------------------------------------------\u001b[0m",
      "\u001b[0;31mKeyboardInterrupt\u001b[0m                         Traceback (most recent call last)",
      "Cell \u001b[0;32mIn[6], line 34\u001b[0m\n\u001b[1;32m     29\u001b[0m             left \u001b[38;5;241m=\u001b[39m mid \u001b[38;5;241m+\u001b[39m \u001b[38;5;241m1\u001b[39m\n\u001b[1;32m     31\u001b[0m     \u001b[38;5;28;01mreturn\u001b[39;00m answer\n\u001b[0;32m---> 34\u001b[0m \u001b[38;5;28mprint\u001b[39m(\u001b[43mmax_length\u001b[49m\u001b[43m(\u001b[49m\u001b[43m)\u001b[49m)\n",
      "Cell \u001b[0;32mIn[6], line 25\u001b[0m, in \u001b[0;36mmax_length\u001b[0;34m()\u001b[0m\n\u001b[1;32m     22\u001b[0m answer \u001b[38;5;241m=\u001b[39m right\n\u001b[1;32m     24\u001b[0m \u001b[38;5;28;01mwhile\u001b[39;00m left \u001b[38;5;241m<\u001b[39m\u001b[38;5;241m=\u001b[39m right:\n\u001b[0;32m---> 25\u001b[0m     \u001b[38;5;28;01mif\u001b[39;00m \u001b[43mis_possible\u001b[49m\u001b[43m(\u001b[49m\u001b[43mmid\u001b[49m\u001b[43m)\u001b[49m:\n\u001b[1;32m     26\u001b[0m         answer \u001b[38;5;241m=\u001b[39m mid\n\u001b[1;32m     27\u001b[0m         right \u001b[38;5;241m=\u001b[39m mid \u001b[38;5;241m-\u001b[39m \u001b[38;5;241m1\u001b[39m\n",
      "Cell \u001b[0;32mIn[6], line 10\u001b[0m, in \u001b[0;36mis_possible\u001b[0;34m(x)\u001b[0m\n\u001b[1;32m      8\u001b[0m count \u001b[38;5;241m=\u001b[39m \u001b[38;5;241m0\u001b[39m\n\u001b[1;32m      9\u001b[0m \u001b[38;5;28;01mfor\u001b[39;00m cable \u001b[38;5;129;01min\u001b[39;00m cables:\n\u001b[0;32m---> 10\u001b[0m     count \u001b[38;5;241m+\u001b[39m\u001b[38;5;241m=\u001b[39m (cable \u001b[38;5;241m/\u001b[39m\u001b[38;5;241m/\u001b[39m x)\n\u001b[1;32m     11\u001b[0m \u001b[38;5;28;01mif\u001b[39;00m count \u001b[38;5;241m<\u001b[39m m:\n\u001b[1;32m     12\u001b[0m     \u001b[38;5;28;01mreturn\u001b[39;00m \u001b[38;5;28;01mFalse\u001b[39;00m\n",
      "\u001b[0;31mKeyboardInterrupt\u001b[0m: "
     ]
    }
   ],
   "source": [
    "### 문제 3. 랜선 자르기\n",
    "# - 여러 개의 랜선을 같은 길이로 자를 때, m개 이상의 랜선을 만들 수 있는 최대 길이를 구하시오.\n",
    "\n",
    "cables = [802, 743, 457, 539]\n",
    "m = 11  # 만들고 싶은 랜선 수\n",
    "\n",
    "def is_possible(x, cables):\n",
    "    count = 0\n",
    "    for cable in cables:\n",
    "        count += (cable // x)\n",
    "    if count < m:\n",
    "        return False\n",
    "    else:\n",
    "        return count\n",
    "        \n",
    "            \n",
    "\n",
    "def max_length(cables):\n",
    "    left, right = 0, max(cables)\n",
    "\n",
    "    mid = (left + right) // 2\n",
    "    answer = right\n",
    "\n",
    "    while left <= right:\n",
    "        if is_possible(mid, cables):\n",
    "            answer = mid\n",
    "            right = mid - 1\n",
    "        else:\n",
    "            left = mid + 1\n",
    "    \n",
    "    return answer\n",
    "\n",
    "\n",
    "print(max_length())"
   ]
  },
  {
   "cell_type": "code",
   "execution_count": null,
   "metadata": {},
   "outputs": [],
   "source": [
    "# 올바른 답!\n",
    "\n",
    "def count_cables(length, cables):\n",
    "    \"\"\"만들어진 케이블의 총 갯수\"\"\"\n",
    "    \n",
    "    count = 0\n",
    "\n",
    "    for cable in cables:\n",
    "        count += (cable//length)\n",
    "\n",
    "    return count\n",
    "\n",
    "def max_length(cables, m):\n",
    "\n",
    "    left, right = 0, max(cables)\n",
    "    greater_than_m = []\n",
    "\n",
    "    while left <= right:\n",
    "    \n",
    "        mid = (left + right) // 2\n",
    "        answer = max(greater_than_m)\n",
    "\n",
    "        count = count_cables(mid, cables)\n",
    "        if count >= m:\n",
    "            greater_than_m.append(count)\n",
    "            left = mid + 1\n",
    "        else:\n",
    "            right = mid - 1\n",
    "\n",
    "    return answer"
   ]
  }
 ],
 "metadata": {
  "kernelspec": {
   "display_name": "Python 3",
   "language": "python",
   "name": "python3"
  },
  "language_info": {
   "codemirror_mode": {
    "name": "ipython",
    "version": 3
   },
   "file_extension": ".py",
   "mimetype": "text/x-python",
   "name": "python",
   "nbconvert_exporter": "python",
   "pygments_lexer": "ipython3",
   "version": "3.12.2"
  }
 },
 "nbformat": 4,
 "nbformat_minor": 2
}
