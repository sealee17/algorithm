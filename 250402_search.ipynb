{
 "cells": [
  {
   "cell_type": "code",
   "execution_count": null,
   "metadata": {},
   "outputs": [
    {
     "name": "stdout",
     "output_type": "stream",
     "text": [
      "3 7 0 7\n",
      "[이진 탐색] target 위치: 7\n"
     ]
    }
   ],
   "source": [
    "''' \n",
    "예제 1: 이진 탐색 (정확한 값 찾기)\n",
    "'''\n",
    "\n",
    "arr = [1, 3, 5, 7, 9, 11, 13, 15]\n",
    "target = 7\n",
    "\n",
    "def binary_search(arr, target):\n",
    "    left, right = 0, len(arr) - 1\n",
    "\n",
    "    while left <= right:\n",
    "        mid = (left + right) // 2\n",
    "        if arr[mid]==target:\n",
    "            break\n",
    "        elif arr[mid]>target:\n",
    "            right=mid\n",
    "        elif arr[mid]<target:\n",
    "            left=mid\n",
    "        print(right,left)\n",
    "\n",
    "    return arr[mid]\n",
    "\n",
    "\n",
    "print(\"[이진 탐색] target 위치:\", binary_search(arr, target))"
   ]
  },
  {
   "cell_type": "code",
   "execution_count": 16,
   "metadata": {},
   "outputs": [
    {
     "name": "stdout",
     "output_type": "stream",
     "text": [
      "[매개변수 탐색] 조건을 만족하는 최솟값: 23\n"
     ]
    }
   ],
   "source": [
    "''' \n",
    "예제 2: 매개변수 탐색 (조건을 만족하는 최솟값 찾기)\n",
    "\n",
    "문제: 1~1000 사이에서 제곱했을 때 500 이상이 되는 가장 작은 수를 구하라.\n",
    "\n",
    "조건 함수: x^2 >= 500\n",
    "\n",
    "'''\n",
    "\n",
    "def is_possible(x):\n",
    "    return x * x >= 500\n",
    "\n",
    "def parametric_search():\n",
    "    left, right = 1, 1000\n",
    "    \n",
    "    answer = right\n",
    "\n",
    "    while left <= right:\n",
    "        mid = (left + right) // 2\n",
    "        \n",
    "        if is_possible(mid):\n",
    "            answer = mid\n",
    "            right = mid - 1\n",
    "        else:\n",
    "            left = mid + 1\n",
    "\n",
    "    return answer    \n",
    "\n",
    "print(\"[매개변수 탐색] 조건을 만족하는 최솟값:\", parametric_search())\n"
   ]
  },
  {
   "cell_type": "code",
   "execution_count": null,
   "metadata": {},
   "outputs": [
    {
     "name": "stdout",
     "output_type": "stream",
     "text": [
      "1 10 8\n",
      "None\n"
     ]
    }
   ],
   "source": [
    "### 문제 1. 강의 나누기\n",
    "# - n개의 강의를 m개의 USB로 나누되, 각 USB에 들어갈 수 있는 최소 용량의 최솟값을 구하시오.\n",
    "\n",
    "\n",
    "lectures = [1, 2, 3, 4, 5]  # 각 강의 길이\n",
    "m = 3  # USB 개수\n",
    "\n",
    "def is_possible_capacity(x):\n",
    "    count, total = 1, 0\n",
    "    for lecture in lectures:\n",
    "        if lecture > x:\n",
    "            return False\n",
    "        if total + lecture > x:\n",
    "            count += 1\n",
    "            total = lecture\n",
    "        else:\n",
    "            total = total + lecture\n",
    "    return count <= m\n",
    "\n",
    "\n",
    "def minimum_storage():\n",
    "    left, right = max(lectures), sum(lectures)\n",
    "\n",
    "    mid = (left + right) // 2\n",
    "    answer = right\n",
    "\n",
    "    while left <= right:\n",
    "        if is_possible_capacity(mid):\n",
    "            answer = mid\n",
    "            right = mid - 1\n",
    "        else:\n",
    "            left = mid + 1\n",
    "    \n",
    "    return answer\n",
    "\n",
    "\n",
    "# 모던 파이썬 문법\n",
    "def print_number():\n",
    "    a, b, c = 1, 10, 8\n",
    "    \n",
    "    print(a, b, c)\n",
    "\n",
    "print(print_number())"
   ]
  }
 ],
 "metadata": {
  "kernelspec": {
   "display_name": "Python 3",
   "language": "python",
   "name": "python3"
  },
  "language_info": {
   "codemirror_mode": {
    "name": "ipython",
    "version": 3
   },
   "file_extension": ".py",
   "mimetype": "text/x-python",
   "name": "python",
   "nbconvert_exporter": "python",
   "pygments_lexer": "ipython3",
   "version": "3.12.2"
  }
 },
 "nbformat": 4,
 "nbformat_minor": 2
}
