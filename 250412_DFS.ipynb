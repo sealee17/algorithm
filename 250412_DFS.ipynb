{
 "cells": [
  {
   "cell_type": "code",
   "execution_count": 1,
   "id": "088b28b5",
   "metadata": {},
   "outputs": [],
   "source": [
    "graph = {\n",
    "    1: [2, 5, 9],\n",
    "    2: [1,3],\n",
    "    3: [2, 4],\n",
    "    4: [3],\n",
    "    5: [1,6, 8],\n",
    "    6: [5,7],\n",
    "    7: [6],\n",
    "    8: [5],\n",
    "    9: [1,10],\n",
    "    10: [9]\n",
    "}"
   ]
  },
  {
   "cell_type": "code",
   "execution_count": 4,
   "id": "013ddab6",
   "metadata": {},
   "outputs": [],
   "source": [
    "def def_iterative_target(graph, start, target):\n",
    "    visited = []\n",
    "    stack = [start]\n",
    "\n",
    "    while stack:\n",
    "        node = stack.pop\n",
    "        if node not in visited:\n",
    "            visited.append(node)\n",
    "\n",
    "        if node == target:\n",
    "            return visited\n",
    "\n",
    "        for neighbor in reversed(graph[node]):\n",
    "            if neighbor not in visited:\n",
    "                stack.append(neighbor)\n",
    "\n",
    "    return visited"
   ]
  },
  {
   "cell_type": "code",
   "execution_count": 5,
   "id": "91631c18",
   "metadata": {},
   "outputs": [
    {
     "ename": "KeyError",
     "evalue": "<built-in method pop of list object at 0x123635cc0>",
     "output_type": "error",
     "traceback": [
      "\u001b[0;31m---------------------------------------------------------------------------\u001b[0m",
      "\u001b[0;31mKeyError\u001b[0m                                  Traceback (most recent call last)",
      "Cell \u001b[0;32mIn[5], line 1\u001b[0m\n\u001b[0;32m----> 1\u001b[0m route \u001b[38;5;241m=\u001b[39m \u001b[43mdef_iterative_target\u001b[49m\u001b[43m(\u001b[49m\u001b[43mgraph\u001b[49m\u001b[43m,\u001b[49m\u001b[43m \u001b[49m\u001b[38;5;241;43m1\u001b[39;49m\u001b[43m,\u001b[49m\u001b[43m \u001b[49m\u001b[38;5;241;43m7\u001b[39;49m\u001b[43m)\u001b[49m\n\u001b[1;32m      2\u001b[0m \u001b[38;5;28mprint\u001b[39m(route)\n",
      "Cell \u001b[0;32mIn[4], line 13\u001b[0m, in \u001b[0;36mdef_iterative_target\u001b[0;34m(graph, start, target)\u001b[0m\n\u001b[1;32m     10\u001b[0m \u001b[38;5;28;01mif\u001b[39;00m node \u001b[38;5;241m==\u001b[39m target:\n\u001b[1;32m     11\u001b[0m     \u001b[38;5;28;01mreturn\u001b[39;00m visited\n\u001b[0;32m---> 13\u001b[0m \u001b[38;5;28;01mfor\u001b[39;00m neighbor \u001b[38;5;129;01min\u001b[39;00m \u001b[38;5;28mreversed\u001b[39m(\u001b[43mgraph\u001b[49m\u001b[43m[\u001b[49m\u001b[43mnode\u001b[49m\u001b[43m]\u001b[49m):\n\u001b[1;32m     14\u001b[0m     \u001b[38;5;28;01mif\u001b[39;00m neighbor \u001b[38;5;129;01mnot\u001b[39;00m \u001b[38;5;129;01min\u001b[39;00m visited:\n\u001b[1;32m     15\u001b[0m         stack\u001b[38;5;241m.\u001b[39mappend(neighbor)\n",
      "\u001b[0;31mKeyError\u001b[0m: <built-in method pop of list object at 0x123635cc0>"
     ]
    }
   ],
   "source": [
    "route = def_iterative_target(graph, 1, 7)\n",
    "print(route)"
   ]
  }
 ],
 "metadata": {
  "kernelspec": {
   "display_name": "Python 3",
   "language": "python",
   "name": "python3"
  },
  "language_info": {
   "codemirror_mode": {
    "name": "ipython",
    "version": 3
   },
   "file_extension": ".py",
   "mimetype": "text/x-python",
   "name": "python",
   "nbconvert_exporter": "python",
   "pygments_lexer": "ipython3",
   "version": "3.12.2"
  }
 },
 "nbformat": 4,
 "nbformat_minor": 5
}
