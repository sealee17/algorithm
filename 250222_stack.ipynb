{
 "cells": [
  {
   "cell_type": "code",
   "execution_count": 2,
   "metadata": {},
   "outputs": [
    {
     "name": "stdout",
     "output_type": "stream",
     "text": [
      "calc(a,b,c)\n",
      "add3(a,b,c)\n",
      "add(a,b)\n",
      "6\n"
     ]
    }
   ],
   "source": [
    "# Stack\n",
    "\n",
    "def add(a,b):\n",
    "    print('add(a,b)')\n",
    "    return a+b\n",
    "\n",
    "def add3(a,b,c):\n",
    "    print('add3(a,b,c)')\n",
    "    return add(a,b)+c\n",
    "\n",
    "def calc(a,b,c):\n",
    "    print('calc(a,b,c)')\n",
    "    return add3(a,b,c)\n",
    "\n",
    "print(calc(1,2,3))"
   ]
  },
  {
   "cell_type": "code",
   "execution_count": null,
   "metadata": {},
   "outputs": [
    {
     "name": "stdout",
     "output_type": "stream",
     "text": [
      "[1, 2, 3]\n",
      "3\n",
      "[1, 2]\n",
      "이거얌 2\n",
      "[1]\n",
      "1\n",
      "False\n"
     ]
    }
   ],
   "source": [
    "stack1=[]\n",
    "\n",
    "# push\n",
    "stack1.append(1)\n",
    "stack1.append(2)\n",
    "stack1.append(3)\n",
    "\n",
    "print(stack1)\n",
    "\n",
    "# pop\n",
    "print(stack1.pop()) # 1,2,3 중 가장 나중에 들어온 3을 pop하면서 빼낸다\n",
    "print(stack1) # 확인 절차: 1,2가 남음\n",
    "\n",
    "popitem=stack1.pop() # popitem에 남은 1,2 중 가장 나중에 들어온 2를 pop하면서 빼내고 variable에 저장한다\n",
    "print(popitem) # 확인 절차: 1이 남음\n",
    "print(stack1) # [1]\n",
    "\n",
    "# peek --> 잘 모르겤ㅆ음\n",
    "topitem=stack1[-1]\n",
    "print(topitem)\n",
    "\n",
    "stacksize=len(stack1)\n",
    "\n",
    "is_empty=stacksize==0\n",
    "print(is_empty)"
   ]
  },
  {
   "cell_type": "code",
   "execution_count": null,
   "metadata": {},
   "outputs": [
    {
     "name": "stdout",
     "output_type": "stream",
     "text": [
      "[7, 1, 8, 3, 5]\n",
      "!dlroW \n"
     ]
    }
   ],
   "source": [
    "# 연습 문제들\n",
    "\n",
    "    # 1. 스택을 이용한 숫자 출력하기\n",
    "        \n",
    "        # #1 corrected ver.\n",
    "\n",
    "    # 2. 스택을 이용한 문자열 뒤집기\n",
    "\n",
    "        # #2 corrected ver.\n",
    "\n",
    "# 1\n",
    "numstack=[5,3,8,1,7]\n",
    "newnum=[]\n",
    "for i in range(len(numstack)):\n",
    "    nums=numstack.pop()\n",
    "    newnum.append(nums)\n",
    "print(newnum)\n",
    "\n",
    "# 2\n",
    "textstack=list('Hello, World!')\n",
    "newtext=[]\n",
    "for i in range(len(textstack)):\n",
    "    text=textstack.pop()\n",
    "    newtext.append(text)\n",
    "print(''.join(newtext))\n",
    "\n",
    "# ALT. versions\n",
    "\n",
    "stackhello=[]\n",
    "for char in textstack:\n",
    "    #print(char)\n",
    "    stackhello.append(char)\n",
    "    print(stackhello)\n",
    "\n",
    "reversedtext=''\n",
    "while stackhello:\n",
    "    reversedtext+=stackhello.pop()\n",
    "print(reversedtext)"
   ]
  }
 ],
 "metadata": {
  "kernelspec": {
   "display_name": "Python 3",
   "language": "python",
   "name": "python3"
  },
  "language_info": {
   "codemirror_mode": {
    "name": "ipython",
    "version": 3
   },
   "file_extension": ".py",
   "mimetype": "text/x-python",
   "name": "python",
   "nbconvert_exporter": "python",
   "pygments_lexer": "ipython3",
   "version": "3.12.2"
  }
 },
 "nbformat": 4,
 "nbformat_minor": 2
}
