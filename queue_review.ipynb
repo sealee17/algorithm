{
 "cells": [
  {
   "cell_type": "code",
   "execution_count": 6,
   "metadata": {},
   "outputs": [],
   "source": [
    "from collections import deque\n",
    "import time\n",
    "\n",
    "class Runner:\n",
    "    def __init__(self,name,run_time):\n",
    "        self.name = name\n",
    "        self.run_time = run_time\n",
    "\n",
    "def process_race(self,race_queue):\n",
    "    while race_queue:\n",
    "        print(f\"{self.runner.name} is running ...\")\n",
    "        run_time = time.time()\n",
    "        print(f\"{self.runner.name} finished the race in {run_time:.2f} seconds\")\n",
    "\n",
    "def main():\n",
    "    race_queue = deque()\n",
    "    race_queue.append(Runner(\"A\",40))\n",
    "    race_queue.append(Runner(\"B\",50))\n",
    "    race_queue.append(Runner(\"C\",60))\n",
    "    race_queue.append(Runner(\"D\",70))\n",
    "\n",
    "    print(\"Race Start\")\n",
    "\n",
    "    process_race(race_queue)\n",
    "\n",
    "    print(\"All runners finished the race\")"
   ]
  }
 ],
 "metadata": {
  "kernelspec": {
   "display_name": "Python 3",
   "language": "python",
   "name": "python3"
  },
  "language_info": {
   "codemirror_mode": {
    "name": "ipython",
    "version": 3
   },
   "file_extension": ".py",
   "mimetype": "text/x-python",
   "name": "python",
   "nbconvert_exporter": "python",
   "pygments_lexer": "ipython3",
   "version": "3.12.2"
  }
 },
 "nbformat": 4,
 "nbformat_minor": 2
}
