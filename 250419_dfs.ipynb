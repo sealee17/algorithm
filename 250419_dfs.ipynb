{
 "cells": [
  {
   "cell_type": "code",
   "execution_count": null,
   "id": "7be86ea0",
   "metadata": {},
   "outputs": [
    {
     "name": "stdout",
     "output_type": "stream",
     "text": [
      "DFS 방문 순서: [1, 2, 3, 4, 5]\n"
     ]
    }
   ],
   "source": [
    "# DFS 실행\n",
    "graph = {\n",
    "    1: [2, 5, 9],\n",
    "    2: [1,3],\n",
    "    3: [2, 4],\n",
    "    4: [3],\n",
    "    5: [1,6, 8],\n",
    "    6: [5,7],\n",
    "    7: [6],\n",
    "    8: [5],\n",
    "    9: [1,10],\n",
    "    10: [9]\n",
    "}\n",
    "\n",
    "def dfs_iterative(graph, start, target):\n",
    "    visited = []\n",
    "    stack = [start]\n",
    "\n",
    "    while stack:\n",
    "        \n",
    "        node = stack.pop()\n",
    "\n",
    "        if node == target:\n",
    "            return visited\n",
    "\n",
    "        if node not in visited:\n",
    "            visited.append(node)\n",
    "            # 인접 노드를 스택에 추가 (역순으로 추가하여 작은 번호부터 방문)\n",
    "\n",
    "        for neighbor in reversed(graph[node]):\n",
    "            if neighbor not in visited:\n",
    "                stack.append(neighbor)\n",
    "        return visited\n",
    "\n",
    "# DFS 실행\n",
    "start_node = 1\n",
    "target_node = 6\n",
    "visited = dfs_iterative(graph, start_node, target_node)\n",
    "print(\"DFS 방문 순서:\", visited)"
   ]
  },
  {
   "cell_type": "code",
   "execution_count": null,
   "id": "22ad85bc",
   "metadata": {},
   "outputs": [],
   "source": [
    "# DFS 관련 문제\n",
    "\n",
    "grid = {\n",
    "    1: [1, 1, 2, 3],\n",
    "    2: [4, 1, 2, 2],\n",
    "    3: [4, 4, 4, 3],\n",
    "}\n",
    "\n",
    "def find_area_size(grid, row, col):\n",
    "    rows = len(graph), len(grid[0])\n",
    "\n",
    "    if 0 <= nx < cols and 0 <= ny < rows and grid [nx][ny] == 1 and grid[nx][ny] not visited"
   ]
  }
 ],
 "metadata": {
  "kernelspec": {
   "display_name": "Python 3",
   "language": "python",
   "name": "python3"
  },
  "language_info": {
   "codemirror_mode": {
    "name": "ipython",
    "version": 3
   },
   "file_extension": ".py",
   "mimetype": "text/x-python",
   "name": "python",
   "nbconvert_exporter": "python",
   "pygments_lexer": "ipython3",
   "version": "3.12.2"
  }
 },
 "nbformat": 4,
 "nbformat_minor": 5
}
